{
 "cells": [
  {
   "cell_type": "code",
   "execution_count": 5,
   "metadata": {},
   "outputs": [
    {
     "name": "stdout",
     "output_type": "stream",
     "text": [
      "0\n",
      "[2. 2.]\n",
      "[4.]\n"
     ]
    }
   ],
   "source": [
    "import cupy as cp\n",
    "\n",
    "cp.show_config()\n",
    "\n",
    "x = cp.ones(2)\n",
    "y = cp.ones(1)\n",
    "y += x[0]\n",
    "y += x[0]\n",
    "y += x[0]\n",
    "\n",
    "x += 1\n",
    "print(x)\n",
    "print(y)"
   ]
  }
 ],
 "metadata": {
  "kernelspec": {
   "display_name": ".venv",
   "language": "python",
   "name": "python3"
  },
  "language_info": {
   "codemirror_mode": {
    "name": "ipython",
    "version": 3
   },
   "file_extension": ".py",
   "mimetype": "text/x-python",
   "name": "python",
   "nbconvert_exporter": "python",
   "pygments_lexer": "ipython3",
   "version": "3.10.10"
  },
  "orig_nbformat": 4
 },
 "nbformat": 4,
 "nbformat_minor": 2
}
